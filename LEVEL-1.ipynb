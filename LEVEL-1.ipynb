{
 "cells": [
  {
   "cell_type": "markdown",
   "id": "363b55b2",
   "metadata": {},
   "source": [
    "## LEVEL-1 -----  TASK- 1: Data Exploration and Preprocessing"
   ]
  },
  {
   "cell_type": "code",
   "execution_count": 1,
   "id": "6ca2cc1a",
   "metadata": {},
   "outputs": [],
   "source": [
    "# Importing Required libraries\n",
    "import pandas as pd\n",
    "import numpy as np \n",
    "import matplotlib.pyplot as plt\n",
    "import seaborn as sns"
   ]
  },
  {
   "cell_type": "code",
   "execution_count": 2,
   "id": "606459f7",
   "metadata": {},
   "outputs": [
    {
     "data": {
      "text/html": [
       "<div>\n",
       "<style scoped>\n",
       "    .dataframe tbody tr th:only-of-type {\n",
       "        vertical-align: middle;\n",
       "    }\n",
       "\n",
       "    .dataframe tbody tr th {\n",
       "        vertical-align: top;\n",
       "    }\n",
       "\n",
       "    .dataframe thead th {\n",
       "        text-align: right;\n",
       "    }\n",
       "</style>\n",
       "<table border=\"1\" class=\"dataframe\">\n",
       "  <thead>\n",
       "    <tr style=\"text-align: right;\">\n",
       "      <th></th>\n",
       "      <th>Restaurant ID</th>\n",
       "      <th>Restaurant Name</th>\n",
       "      <th>Country Code</th>\n",
       "      <th>City</th>\n",
       "      <th>Address</th>\n",
       "      <th>Locality</th>\n",
       "      <th>Locality Verbose</th>\n",
       "      <th>Longitude</th>\n",
       "      <th>Latitude</th>\n",
       "      <th>Cuisines</th>\n",
       "      <th>...</th>\n",
       "      <th>Currency</th>\n",
       "      <th>Has Table booking</th>\n",
       "      <th>Has Online delivery</th>\n",
       "      <th>Is delivering now</th>\n",
       "      <th>Switch to order menu</th>\n",
       "      <th>Price range</th>\n",
       "      <th>Aggregate rating</th>\n",
       "      <th>Rating color</th>\n",
       "      <th>Rating text</th>\n",
       "      <th>Votes</th>\n",
       "    </tr>\n",
       "  </thead>\n",
       "  <tbody>\n",
       "    <tr>\n",
       "      <th>0</th>\n",
       "      <td>6317637</td>\n",
       "      <td>Le Petit Souffle</td>\n",
       "      <td>162</td>\n",
       "      <td>Makati City</td>\n",
       "      <td>Third Floor, Century City Mall, Kalayaan Avenu...</td>\n",
       "      <td>Century City Mall, Poblacion, Makati City</td>\n",
       "      <td>Century City Mall, Poblacion, Makati City, Mak...</td>\n",
       "      <td>121.027535</td>\n",
       "      <td>14.565443</td>\n",
       "      <td>French, Japanese, Desserts</td>\n",
       "      <td>...</td>\n",
       "      <td>Botswana Pula(P)</td>\n",
       "      <td>Yes</td>\n",
       "      <td>No</td>\n",
       "      <td>No</td>\n",
       "      <td>No</td>\n",
       "      <td>3</td>\n",
       "      <td>4.8</td>\n",
       "      <td>Dark Green</td>\n",
       "      <td>Excellent</td>\n",
       "      <td>314</td>\n",
       "    </tr>\n",
       "    <tr>\n",
       "      <th>1</th>\n",
       "      <td>6304287</td>\n",
       "      <td>Izakaya Kikufuji</td>\n",
       "      <td>162</td>\n",
       "      <td>Makati City</td>\n",
       "      <td>Little Tokyo, 2277 Chino Roces Avenue, Legaspi...</td>\n",
       "      <td>Little Tokyo, Legaspi Village, Makati City</td>\n",
       "      <td>Little Tokyo, Legaspi Village, Makati City, Ma...</td>\n",
       "      <td>121.014101</td>\n",
       "      <td>14.553708</td>\n",
       "      <td>Japanese</td>\n",
       "      <td>...</td>\n",
       "      <td>Botswana Pula(P)</td>\n",
       "      <td>Yes</td>\n",
       "      <td>No</td>\n",
       "      <td>No</td>\n",
       "      <td>No</td>\n",
       "      <td>3</td>\n",
       "      <td>4.5</td>\n",
       "      <td>Dark Green</td>\n",
       "      <td>Excellent</td>\n",
       "      <td>591</td>\n",
       "    </tr>\n",
       "    <tr>\n",
       "      <th>2</th>\n",
       "      <td>6300002</td>\n",
       "      <td>Heat - Edsa Shangri-La</td>\n",
       "      <td>162</td>\n",
       "      <td>Mandaluyong City</td>\n",
       "      <td>Edsa Shangri-La, 1 Garden Way, Ortigas, Mandal...</td>\n",
       "      <td>Edsa Shangri-La, Ortigas, Mandaluyong City</td>\n",
       "      <td>Edsa Shangri-La, Ortigas, Mandaluyong City, Ma...</td>\n",
       "      <td>121.056831</td>\n",
       "      <td>14.581404</td>\n",
       "      <td>Seafood, Asian, Filipino, Indian</td>\n",
       "      <td>...</td>\n",
       "      <td>Botswana Pula(P)</td>\n",
       "      <td>Yes</td>\n",
       "      <td>No</td>\n",
       "      <td>No</td>\n",
       "      <td>No</td>\n",
       "      <td>4</td>\n",
       "      <td>4.4</td>\n",
       "      <td>Green</td>\n",
       "      <td>Very Good</td>\n",
       "      <td>270</td>\n",
       "    </tr>\n",
       "    <tr>\n",
       "      <th>3</th>\n",
       "      <td>6318506</td>\n",
       "      <td>Ooma</td>\n",
       "      <td>162</td>\n",
       "      <td>Mandaluyong City</td>\n",
       "      <td>Third Floor, Mega Fashion Hall, SM Megamall, O...</td>\n",
       "      <td>SM Megamall, Ortigas, Mandaluyong City</td>\n",
       "      <td>SM Megamall, Ortigas, Mandaluyong City, Mandal...</td>\n",
       "      <td>121.056475</td>\n",
       "      <td>14.585318</td>\n",
       "      <td>Japanese, Sushi</td>\n",
       "      <td>...</td>\n",
       "      <td>Botswana Pula(P)</td>\n",
       "      <td>No</td>\n",
       "      <td>No</td>\n",
       "      <td>No</td>\n",
       "      <td>No</td>\n",
       "      <td>4</td>\n",
       "      <td>4.9</td>\n",
       "      <td>Dark Green</td>\n",
       "      <td>Excellent</td>\n",
       "      <td>365</td>\n",
       "    </tr>\n",
       "    <tr>\n",
       "      <th>4</th>\n",
       "      <td>6314302</td>\n",
       "      <td>Sambo Kojin</td>\n",
       "      <td>162</td>\n",
       "      <td>Mandaluyong City</td>\n",
       "      <td>Third Floor, Mega Atrium, SM Megamall, Ortigas...</td>\n",
       "      <td>SM Megamall, Ortigas, Mandaluyong City</td>\n",
       "      <td>SM Megamall, Ortigas, Mandaluyong City, Mandal...</td>\n",
       "      <td>121.057508</td>\n",
       "      <td>14.584450</td>\n",
       "      <td>Japanese, Korean</td>\n",
       "      <td>...</td>\n",
       "      <td>Botswana Pula(P)</td>\n",
       "      <td>Yes</td>\n",
       "      <td>No</td>\n",
       "      <td>No</td>\n",
       "      <td>No</td>\n",
       "      <td>4</td>\n",
       "      <td>4.8</td>\n",
       "      <td>Dark Green</td>\n",
       "      <td>Excellent</td>\n",
       "      <td>229</td>\n",
       "    </tr>\n",
       "  </tbody>\n",
       "</table>\n",
       "<p>5 rows × 21 columns</p>\n",
       "</div>"
      ],
      "text/plain": [
       "   Restaurant ID         Restaurant Name  Country Code              City  \\\n",
       "0        6317637        Le Petit Souffle           162       Makati City   \n",
       "1        6304287        Izakaya Kikufuji           162       Makati City   \n",
       "2        6300002  Heat - Edsa Shangri-La           162  Mandaluyong City   \n",
       "3        6318506                    Ooma           162  Mandaluyong City   \n",
       "4        6314302             Sambo Kojin           162  Mandaluyong City   \n",
       "\n",
       "                                             Address  \\\n",
       "0  Third Floor, Century City Mall, Kalayaan Avenu...   \n",
       "1  Little Tokyo, 2277 Chino Roces Avenue, Legaspi...   \n",
       "2  Edsa Shangri-La, 1 Garden Way, Ortigas, Mandal...   \n",
       "3  Third Floor, Mega Fashion Hall, SM Megamall, O...   \n",
       "4  Third Floor, Mega Atrium, SM Megamall, Ortigas...   \n",
       "\n",
       "                                     Locality  \\\n",
       "0   Century City Mall, Poblacion, Makati City   \n",
       "1  Little Tokyo, Legaspi Village, Makati City   \n",
       "2  Edsa Shangri-La, Ortigas, Mandaluyong City   \n",
       "3      SM Megamall, Ortigas, Mandaluyong City   \n",
       "4      SM Megamall, Ortigas, Mandaluyong City   \n",
       "\n",
       "                                    Locality Verbose   Longitude   Latitude  \\\n",
       "0  Century City Mall, Poblacion, Makati City, Mak...  121.027535  14.565443   \n",
       "1  Little Tokyo, Legaspi Village, Makati City, Ma...  121.014101  14.553708   \n",
       "2  Edsa Shangri-La, Ortigas, Mandaluyong City, Ma...  121.056831  14.581404   \n",
       "3  SM Megamall, Ortigas, Mandaluyong City, Mandal...  121.056475  14.585318   \n",
       "4  SM Megamall, Ortigas, Mandaluyong City, Mandal...  121.057508  14.584450   \n",
       "\n",
       "                           Cuisines  ...          Currency Has Table booking  \\\n",
       "0        French, Japanese, Desserts  ...  Botswana Pula(P)               Yes   \n",
       "1                          Japanese  ...  Botswana Pula(P)               Yes   \n",
       "2  Seafood, Asian, Filipino, Indian  ...  Botswana Pula(P)               Yes   \n",
       "3                   Japanese, Sushi  ...  Botswana Pula(P)                No   \n",
       "4                  Japanese, Korean  ...  Botswana Pula(P)               Yes   \n",
       "\n",
       "  Has Online delivery Is delivering now Switch to order menu Price range  \\\n",
       "0                  No                No                   No           3   \n",
       "1                  No                No                   No           3   \n",
       "2                  No                No                   No           4   \n",
       "3                  No                No                   No           4   \n",
       "4                  No                No                   No           4   \n",
       "\n",
       "   Aggregate rating  Rating color Rating text Votes  \n",
       "0               4.8    Dark Green   Excellent   314  \n",
       "1               4.5    Dark Green   Excellent   591  \n",
       "2               4.4         Green   Very Good   270  \n",
       "3               4.9    Dark Green   Excellent   365  \n",
       "4               4.8    Dark Green   Excellent   229  \n",
       "\n",
       "[5 rows x 21 columns]"
      ]
     },
     "execution_count": 2,
     "metadata": {},
     "output_type": "execute_result"
    }
   ],
   "source": [
    "# Loading the dataset\n",
    "df = pd.read_csv('Dataset .csv')\n",
    "df.head()"
   ]
  },
  {
   "cell_type": "markdown",
   "id": "205991d3",
   "metadata": {},
   "source": [
    "### Exploration of Data "
   ]
  },
  {
   "cell_type": "code",
   "execution_count": 3,
   "id": "ee8a7d1e",
   "metadata": {},
   "outputs": [
    {
     "name": "stdout",
     "output_type": "stream",
     "text": [
      "No of Duplicates:  0\n"
     ]
    }
   ],
   "source": [
    "# Checking for duplicates\n",
    "duplicates = df.duplicated().sum()\n",
    "print('No of Duplicates: ', duplicates)"
   ]
  },
  {
   "cell_type": "code",
   "execution_count": 4,
   "id": "55490e2c",
   "metadata": {},
   "outputs": [
    {
     "name": "stdout",
     "output_type": "stream",
     "text": [
      "No of Rows:  9551\n",
      "No of Columns: 21\n"
     ]
    }
   ],
   "source": [
    "# No of rows\n",
    "print('No of Rows: ', df.shape[0]) \n",
    "# No of Columns      \n",
    "print('No of Columns:' ,df.shape[1])"
   ]
  },
  {
   "cell_type": "code",
   "execution_count": 5,
   "id": "fcd245fb",
   "metadata": {},
   "outputs": [
    {
     "name": "stdout",
     "output_type": "stream",
     "text": [
      "<class 'pandas.core.frame.DataFrame'>\n",
      "RangeIndex: 9551 entries, 0 to 9550\n",
      "Data columns (total 21 columns):\n",
      " #   Column                Non-Null Count  Dtype  \n",
      "---  ------                --------------  -----  \n",
      " 0   Restaurant ID         9551 non-null   int64  \n",
      " 1   Restaurant Name       9551 non-null   object \n",
      " 2   Country Code          9551 non-null   int64  \n",
      " 3   City                  9551 non-null   object \n",
      " 4   Address               9551 non-null   object \n",
      " 5   Locality              9551 non-null   object \n",
      " 6   Locality Verbose      9551 non-null   object \n",
      " 7   Longitude             9551 non-null   float64\n",
      " 8   Latitude              9551 non-null   float64\n",
      " 9   Cuisines              9542 non-null   object \n",
      " 10  Average Cost for two  9551 non-null   int64  \n",
      " 11  Currency              9551 non-null   object \n",
      " 12  Has Table booking     9551 non-null   object \n",
      " 13  Has Online delivery   9551 non-null   object \n",
      " 14  Is delivering now     9551 non-null   object \n",
      " 15  Switch to order menu  9551 non-null   object \n",
      " 16  Price range           9551 non-null   int64  \n",
      " 17  Aggregate rating      9551 non-null   float64\n",
      " 18  Rating color          9551 non-null   object \n",
      " 19  Rating text           9551 non-null   object \n",
      " 20  Votes                 9551 non-null   int64  \n",
      "dtypes: float64(3), int64(5), object(13)\n",
      "memory usage: 1.5+ MB\n"
     ]
    }
   ],
   "source": [
    "# Checking for Datatypes\n",
    "df.info()"
   ]
  },
  {
   "cell_type": "markdown",
   "id": "ed0f5a90",
   "metadata": {},
   "source": [
    "### Checking for Missing values"
   ]
  },
  {
   "cell_type": "code",
   "execution_count": 6,
   "id": "b46631db",
   "metadata": {},
   "outputs": [
    {
     "data": {
      "text/plain": [
       "Restaurant ID           0\n",
       "Restaurant Name         0\n",
       "Country Code            0\n",
       "City                    0\n",
       "Address                 0\n",
       "Locality                0\n",
       "Locality Verbose        0\n",
       "Longitude               0\n",
       "Latitude                0\n",
       "Cuisines                9\n",
       "Average Cost for two    0\n",
       "Currency                0\n",
       "Has Table booking       0\n",
       "Has Online delivery     0\n",
       "Is delivering now       0\n",
       "Switch to order menu    0\n",
       "Price range             0\n",
       "Aggregate rating        0\n",
       "Rating color            0\n",
       "Rating text             0\n",
       "Votes                   0\n",
       "dtype: int64"
      ]
     },
     "execution_count": 6,
     "metadata": {},
     "output_type": "execute_result"
    }
   ],
   "source": [
    "df.isnull().sum()"
   ]
  },
  {
   "cell_type": "markdown",
   "id": "54facf9f",
   "metadata": {},
   "source": [
    "**Observation:**\n",
    "- Cuisines column has 9 missing values"
   ]
  },
  {
   "cell_type": "code",
   "execution_count": 7,
   "id": "2151e4c6",
   "metadata": {},
   "outputs": [],
   "source": [
    "# Filling missing values with unknown\n",
    "df['Cuisines'] = df['Cuisines'].fillna('Unknown')"
   ]
  },
  {
   "cell_type": "code",
   "execution_count": 8,
   "id": "058d1925",
   "metadata": {},
   "outputs": [
    {
     "data": {
      "text/plain": [
       "Restaurant ID           0\n",
       "Restaurant Name         0\n",
       "Country Code            0\n",
       "City                    0\n",
       "Address                 0\n",
       "Locality                0\n",
       "Locality Verbose        0\n",
       "Longitude               0\n",
       "Latitude                0\n",
       "Cuisines                0\n",
       "Average Cost for two    0\n",
       "Currency                0\n",
       "Has Table booking       0\n",
       "Has Online delivery     0\n",
       "Is delivering now       0\n",
       "Switch to order menu    0\n",
       "Price range             0\n",
       "Aggregate rating        0\n",
       "Rating color            0\n",
       "Rating text             0\n",
       "Votes                   0\n",
       "dtype: int64"
      ]
     },
     "execution_count": 8,
     "metadata": {},
     "output_type": "execute_result"
    }
   ],
   "source": [
    "# Rechecking for missing values\n",
    "df.isnull().sum()"
   ]
  },
  {
   "cell_type": "markdown",
   "id": "e89bd193",
   "metadata": {},
   "source": [
    "**Observation:**\n",
    "- There are no null values."
   ]
  },
  {
   "cell_type": "markdown",
   "id": "5e2cb2b4",
   "metadata": {},
   "source": [
    "### Analyzing the Target variable distribution"
   ]
  },
  {
   "cell_type": "code",
   "execution_count": 9,
   "id": "aa9ae5e2",
   "metadata": {},
   "outputs": [
    {
     "data": {
      "image/png": "[encoded data removed]",
      "text/plain": [
       "<Figure size 1440x360 with 1 Axes>"
      ]
     },
     "metadata": {
      "needs_background": "light"
     },
     "output_type": "display_data"
    }
   ],
   "source": [
    "plt.figure(figsize=(20,5))\n",
    "sns.countplot(x = df['Aggregate rating'])\n",
    "plt.title('Distribution of Aggregate rating')\n",
    "plt.xlabel('Aggregate rating')\n",
    "plt.ylabel('Distribution')\n",
    "\n",
    "plt.show()"
   ]
  },
  {
   "cell_type": "markdown",
   "id": "aa41dbe7",
   "metadata": {},
   "source": [
    "**Observation:**\n",
    "- There are less Aggregate ratings between 0 and 2."
   ]
  },
  {
   "cell_type": "markdown",
   "id": "8a60ca14",
   "metadata": {},
   "source": [
    "### Identifying the Class Imbalance"
   ]
  },
  {
   "cell_type": "code",
   "execution_count": 10,
   "id": "ec78b40b",
   "metadata": {},
   "outputs": [
    {
     "data": {
      "text/plain": [
       "0.0    2148\n",
       "3.2     522\n",
       "3.1     519\n",
       "3.4     498\n",
       "3.3     483\n",
       "3.5     480\n",
       "3.0     468\n",
       "3.6     458\n",
       "3.7     427\n",
       "3.8     400\n",
       "2.9     381\n",
       "3.9     335\n",
       "2.8     315\n",
       "4.1     274\n",
       "4.0     266\n",
       "2.7     250\n",
       "4.2     221\n",
       "2.6     191\n",
       "4.3     174\n",
       "4.4     144\n",
       "2.5     110\n",
       "4.5      95\n",
       "2.4      87\n",
       "4.6      78\n",
       "4.9      61\n",
       "2.3      47\n",
       "4.7      42\n",
       "2.2      27\n",
       "4.8      25\n",
       "2.1      15\n",
       "2.0       7\n",
       "1.9       2\n",
       "1.8       1\n",
       "Name: Aggregate rating, dtype: int64"
      ]
     },
     "execution_count": 10,
     "metadata": {},
     "output_type": "execute_result"
    }
   ],
   "source": [
    "df['Aggregate rating'].value_counts()"
   ]
  },
  {
   "cell_type": "markdown",
   "id": "51cd8767",
   "metadata": {},
   "source": [
    "**Observation:**\n",
    "- There is Uneven distribution between the ratings.\n",
    "- There are more restaurants with ratings Between 3.0 to 3.8."
   ]
  },
  {
   "cell_type": "markdown",
   "id": "9c755966",
   "metadata": {},
   "source": [
    "## Insights of TASK-1"
   ]
  },
  {
   "cell_type": "markdown",
   "id": "f23c5c51",
   "metadata": {},
   "source": [
    "- There are Various restaurants information from different cities.\n",
    "- There are 9551 rows and 21 columns.\n",
    "- No duplicates in the data.\n",
    "- There are only 9 null values in Cuisines feature. As data plays crucial role the nan values are filled with \"Unknown\".\n",
    "- The distribution of Target Variable(Aggregate rating) is Uneven."
   ]
  },
  {
   "cell_type": "markdown",
   "id": "e94f1687",
   "metadata": {},
   "source": [
    "# TASK-2:  Descriptive Analysis"
   ]
  },
  {
   "cell_type": "markdown",
   "id": "4c5743d7",
   "metadata": {},
   "source": [
    "- Calculate basic statistical measures (mean,\n",
    "median, standard deviation, etc.) for numerical\n",
    "columns.\n",
    "- Explore the distribution of categorical\n",
    "variables like \"Country Code,\n",
    "\" \"City,\n",
    "\" and\n",
    "\"Cuisines.\n",
    "\"\n",
    "- Identify the top cuisines and cities with the\n",
    "highest number of restaurants."
   ]
  },
  {
   "cell_type": "markdown",
   "id": "5145e70d",
   "metadata": {},
   "source": [
    "## Basic Statistics Measures"
   ]
  },
  {
   "cell_type": "code",
   "execution_count": 11,
   "id": "f3c7ec97",
   "metadata": {},
   "outputs": [
    {
     "data": {
      "text/html": [
       "<div>\n",
       "<style scoped>\n",
       "    .dataframe tbody tr th:only-of-type {\n",
       "        vertical-align: middle;\n",
       "    }\n",
       "\n",
       "    .dataframe tbody tr th {\n",
       "        vertical-align: top;\n",
       "    }\n",
       "\n",
       "    .dataframe thead th {\n",
       "        text-align: right;\n",
       "    }\n",
       "</style>\n",
       "<table border=\"1\" class=\"dataframe\">\n",
       "  <thead>\n",
       "    <tr style=\"text-align: right;\">\n",
       "      <th></th>\n",
       "      <th>Restaurant ID</th>\n",
       "      <th>Country Code</th>\n",
       "      <th>Longitude</th>\n",
       "      <th>Latitude</th>\n",
       "      <th>Average Cost for two</th>\n",
       "      <th>Price range</th>\n",
       "      <th>Aggregate rating</th>\n",
       "      <th>Votes</th>\n",
       "    </tr>\n",
       "  </thead>\n",
       "  <tbody>\n",
       "    <tr>\n",
       "      <th>count</th>\n",
       "      <td>9.551000e+03</td>\n",
       "      <td>9551.000000</td>\n",
       "      <td>9551.000000</td>\n",
       "      <td>9551.000000</td>\n",
       "      <td>9551.000000</td>\n",
       "      <td>9551.000000</td>\n",
       "      <td>9551.000000</td>\n",
       "      <td>9551.000000</td>\n",
       "    </tr>\n",
       "    <tr>\n",
       "      <th>mean</th>\n",
       "      <td>9.051128e+06</td>\n",
       "      <td>18.365616</td>\n",
       "      <td>64.126574</td>\n",
       "      <td>25.854381</td>\n",
       "      <td>1199.210763</td>\n",
       "      <td>1.804837</td>\n",
       "      <td>2.666370</td>\n",
       "      <td>156.909748</td>\n",
       "    </tr>\n",
       "    <tr>\n",
       "      <th>std</th>\n",
       "      <td>8.791521e+06</td>\n",
       "      <td>56.750546</td>\n",
       "      <td>41.467058</td>\n",
       "      <td>11.007935</td>\n",
       "      <td>16121.183073</td>\n",
       "      <td>0.905609</td>\n",
       "      <td>1.516378</td>\n",
       "      <td>430.169145</td>\n",
       "    </tr>\n",
       "    <tr>\n",
       "      <th>min</th>\n",
       "      <td>5.300000e+01</td>\n",
       "      <td>1.000000</td>\n",
       "      <td>-157.948486</td>\n",
       "      <td>-41.330428</td>\n",
       "      <td>0.000000</td>\n",
       "      <td>1.000000</td>\n",
       "      <td>0.000000</td>\n",
       "      <td>0.000000</td>\n",
       "    </tr>\n",
       "    <tr>\n",
       "      <th>25%</th>\n",
       "      <td>3.019625e+05</td>\n",
       "      <td>1.000000</td>\n",
       "      <td>77.081343</td>\n",
       "      <td>28.478713</td>\n",
       "      <td>250.000000</td>\n",
       "      <td>1.000000</td>\n",
       "      <td>2.500000</td>\n",
       "      <td>5.000000</td>\n",
       "    </tr>\n",
       "    <tr>\n",
       "      <th>50%</th>\n",
       "      <td>6.004089e+06</td>\n",
       "      <td>1.000000</td>\n",
       "      <td>77.191964</td>\n",
       "      <td>28.570469</td>\n",
       "      <td>400.000000</td>\n",
       "      <td>2.000000</td>\n",
       "      <td>3.200000</td>\n",
       "      <td>31.000000</td>\n",
       "    </tr>\n",
       "    <tr>\n",
       "      <th>75%</th>\n",
       "      <td>1.835229e+07</td>\n",
       "      <td>1.000000</td>\n",
       "      <td>77.282006</td>\n",
       "      <td>28.642758</td>\n",
       "      <td>700.000000</td>\n",
       "      <td>2.000000</td>\n",
       "      <td>3.700000</td>\n",
       "      <td>131.000000</td>\n",
       "    </tr>\n",
       "    <tr>\n",
       "      <th>max</th>\n",
       "      <td>1.850065e+07</td>\n",
       "      <td>216.000000</td>\n",
       "      <td>174.832089</td>\n",
       "      <td>55.976980</td>\n",
       "      <td>800000.000000</td>\n",
       "      <td>4.000000</td>\n",
       "      <td>4.900000</td>\n",
       "      <td>10934.000000</td>\n",
       "    </tr>\n",
       "  </tbody>\n",
       "</table>\n",
       "</div>"
      ],
      "text/plain": [
       "       Restaurant ID  Country Code    Longitude     Latitude  \\\n",
       "count   9.551000e+03   9551.000000  9551.000000  9551.000000   \n",
       "mean    9.051128e+06     18.365616    64.126574    25.854381   \n",
       "std     8.791521e+06     56.750546    41.467058    11.007935   \n",
       "min     5.300000e+01      1.000000  -157.948486   -41.330428   \n",
       "25%     3.019625e+05      1.000000    77.081343    28.478713   \n",
       "50%     6.004089e+06      1.000000    77.191964    28.570469   \n",
       "75%     1.835229e+07      1.000000    77.282006    28.642758   \n",
       "max     1.850065e+07    216.000000   174.832089    55.976980   \n",
       "\n",
       "       Average Cost for two  Price range  Aggregate rating         Votes  \n",
       "count           9551.000000  9551.000000       9551.000000   9551.000000  \n",
       "mean            1199.210763     1.804837          2.666370    156.909748  \n",
       "std            16121.183073     0.905609          1.516378    430.169145  \n",
       "min                0.000000     1.000000          0.000000      0.000000  \n",
       "25%              250.000000     1.000000          2.500000      5.000000  \n",
       "50%              400.000000     2.000000          3.200000     31.000000  \n",
       "75%              700.000000     2.000000          3.700000    131.000000  \n",
       "max           800000.000000     4.000000          4.900000  10934.000000  "
      ]
     },
     "execution_count": 11,
     "metadata": {},
     "output_type": "execute_result"
    }
   ],
   "source": [
    "# Statistics measures for all Numerical columns\n",
    "df.describe()"
   ]
  },
  {
   "cell_type": "code",
   "execution_count": 12,
   "id": "5b2710ea",
   "metadata": {},
   "outputs": [
    {
     "name": "stdout",
     "output_type": "stream",
     "text": [
      "Longitude - Minimum: -157.948486\n",
      "Longitude - Maximum: 174.8320893\n",
      "Longitude - Median: 77.1919642\n",
      "Longitude - Mean: 64.12657446168703\n",
      "Longitude - Std: 41.467057847617575\n"
     ]
    }
   ],
   "source": [
    "# Longitude - Statistical Analysis\n",
    "print('Longitude - Minimum:',df['Longitude'].min())\n",
    "print('Longitude - Maximum:',df['Longitude'].max())\n",
    "print('Longitude - Median:',df['Longitude'].median())\n",
    "print('Longitude - Mean:',df['Longitude'].mean())\n",
    "print('Longitude - Std:',df['Longitude'].std())"
   ]
  },
  {
   "cell_type": "code",
   "execution_count": 13,
   "id": "3c77a38d",
   "metadata": {},
   "outputs": [
    {
     "name": "stdout",
     "output_type": "stream",
     "text": [
      "Latitude - Minimum:  -41.330428\n",
      "Latitude - Maximum: 55.97698\n",
      "Latitude - Median: 28.57046888\n",
      "Latitude - Mean: 25.8543807000748\n",
      "Latitude - Std: 11.007935124784685\n"
     ]
    }
   ],
   "source": [
    "# Latitude - Statistical Analysis\n",
    "print('Latitude - Minimum: ',df['Latitude'].min())\n",
    "print('Latitude - Maximum:',df['Latitude'].max())\n",
    "print('Latitude - Median:',df['Latitude'].median())\n",
    "print('Latitude - Mean:',df['Latitude'].mean())\n",
    "print('Latitude - Std:',df['Latitude'].std())"
   ]
  },
  {
   "cell_type": "code",
   "execution_count": 14,
   "id": "92b36497",
   "metadata": {},
   "outputs": [
    {
     "name": "stdout",
     "output_type": "stream",
     "text": [
      "Average Cost for two - Minimum:  0\n",
      "Average Cost for two - Maximum:  800000\n",
      "Average Cost for two - Mean:  1199.2107632708617\n",
      "Average Cost for two - Median:  400.0\n",
      "Average Cost for two - Std:  16121.18307349965\n"
     ]
    }
   ],
   "source": [
    "# Average Cost for two -  Statistical Analysis\n",
    "print('Average Cost for two - Minimum: ',df['Average Cost for two'].min())\n",
    "print('Average Cost for two - Maximum: ',df['Average Cost for two'].max())\n",
    "print('Average Cost for two - Mean: ',df['Average Cost for two'].mean())\n",
    "print('Average Cost for two - Median: ',df['Average Cost for two'].median())\n",
    "print('Average Cost for two - Std: ',df['Average Cost for two'].std())"
   ]
  },
  {
   "cell_type": "code",
   "execution_count": 15,
   "id": "0806ec49",
   "metadata": {},
   "outputs": [
    {
     "name": "stdout",
     "output_type": "stream",
     "text": [
      "Price range - Minimum:  1\n",
      "Price range - Maximum:  4\n",
      "Price range - Mean:  1.804837189823055\n",
      "Price range - Median:  2.0\n",
      "Price range - Std:  0.9056088473975366\n"
     ]
    }
   ],
   "source": [
    "# Price range - Statistical Analysis\n",
    "print('Price range - Minimum: ',df['Price range'].min())\n",
    "print('Price range - Maximum: ',df['Price range'].max())\n",
    "print('Price range - Mean: ',df['Price range'].mean())\n",
    "print('Price range - Median: ',df['Price range'].median())\n",
    "print('Price range - Std: ',df['Price range'].std())"
   ]
  },
  {
   "cell_type": "code",
   "execution_count": 16,
   "id": "f513360a",
   "metadata": {},
   "outputs": [
    {
     "name": "stdout",
     "output_type": "stream",
     "text": [
      "Aggregate rating - Minimum:  0.0\n",
      "Aggregate rating - Maximum:  4.9\n",
      "Aggregate rating - Mean:  2.6663700136111426\n",
      "Aggregate rating - Median:  3.2\n",
      "Aggregate rating - Std:  1.5163775396521686\n"
     ]
    }
   ],
   "source": [
    "# Aggregate rating -  Statistical Analysis\n",
    "print('Aggregate rating - Minimum: ',df['Aggregate rating'].min())\n",
    "print('Aggregate rating - Maximum: ',df['Aggregate rating'].max())\n",
    "print('Aggregate rating - Mean: ',df['Aggregate rating'].mean())\n",
    "print('Aggregate rating - Median: ',df['Aggregate rating'].median())\n",
    "print('Aggregate rating - Std: ',df['Aggregate rating'].std())"
   ]
  },
  {
   "cell_type": "code",
   "execution_count": 17,
   "id": "1d3b00f6",
   "metadata": {},
   "outputs": [
    {
     "name": "stdout",
     "output_type": "stream",
     "text": [
      "Votes - Minimum :  0\n",
      "Votes - Maximum :  10934\n",
      "Votes - Mean :  156.909747670401\n",
      "Votes - Median :  31.0\n",
      "Votes - Std :  430.1691453762977\n"
     ]
    }
   ],
   "source": [
    "# Votes - Statistical Analysis\n",
    "print('Votes - Minimum : ',df['Votes'].min())\n",
    "print('Votes - Maximum : ',df['Votes'].max())\n",
    "print('Votes - Mean : ',df['Votes'].mean())\n",
    "print('Votes - Median : ',df['Votes'].median())\n",
    "print('Votes - Std : ',df['Votes'].std())"
   ]
  },
  {
   "cell_type": "markdown",
   "id": "d2e63255",
   "metadata": {},
   "source": [
    "## Distribution of categorical variables"
   ]
  },
  {
   "cell_type": "markdown",
   "id": "ce51af84",
   "metadata": {},
   "source": [
    "### Country Code"
   ]
  },
  {
   "cell_type": "code",
   "execution_count": 18,
   "id": "e18b2f21",
   "metadata": {},
   "outputs": [
    {
     "name": "stdout",
     "output_type": "stream",
     "text": [
      "Country Code\n"
     ]
    },
    {
     "data": {
      "image/png": "[encoded data removed]",
      "text/plain": [
       "<Figure size 432x288 with 1 Axes>"
      ]
     },
     "metadata": {
      "needs_background": "light"
     },
     "output_type": "display_data"
    }
   ],
   "source": [
    "print('Country Code')\n",
    "\n",
    "sns.countplot(x = 'Country Code', data = df)\n",
    "plt.title('Distribution of Country Code')\n",
    "plt.xlabel('Countrt Code')\n",
    "plt.ylabel('Count')\n",
    "\n",
    "plt.show()"
   ]
  },
  {
   "cell_type": "markdown",
   "id": "7977ace5",
   "metadata": {},
   "source": [
    "**Observation:**\n",
    "- Country code with 1 is highest restaurants compare to other countries."
   ]
  },
  {
   "cell_type": "markdown",
   "id": "d42a4e50",
   "metadata": {},
   "source": [
    "### City"
   ]
  },
  {
   "cell_type": "code",
   "execution_count": 19,
   "id": "c0ae1c22",
   "metadata": {},
   "outputs": [
    {
     "name": "stdout",
     "output_type": "stream",
     "text": [
      "Distribution of Cities\n"
     ]
    },
    {
     "data": {
      "text/plain": [
       "New Delhi           5473\n",
       "Gurgaon             1118\n",
       "Noida               1080\n",
       "Faridabad            251\n",
       "Ghaziabad             25\n",
       "                    ... \n",
       "Panchkula              1\n",
       "Mc Millan              1\n",
       "Mayfield               1\n",
       "Macedon                1\n",
       "Vineland Station       1\n",
       "Name: City, Length: 141, dtype: int64"
      ]
     },
     "execution_count": 19,
     "metadata": {},
     "output_type": "execute_result"
    }
   ],
   "source": [
    "print('Distribution of Cities')\n",
    "\n",
    "no_of_restaurants = df['City'].value_counts()\n",
    "no_of_restaurants\n"
   ]
  },
  {
   "cell_type": "markdown",
   "id": "a173a604",
   "metadata": {},
   "source": [
    "### Cuisines"
   ]
  },
  {
   "cell_type": "code",
   "execution_count": 20,
   "id": "73d101e5",
   "metadata": {},
   "outputs": [
    {
     "name": "stdout",
     "output_type": "stream",
     "text": [
      "Distribution of Cuisines\n"
     ]
    },
    {
     "data": {
      "text/plain": [
       "North Indian                                             936\n",
       "North Indian, Chinese                                    511\n",
       "Chinese                                                  354\n",
       "Fast Food                                                354\n",
       "North Indian, Mughlai                                    334\n",
       "                                                        ... \n",
       "Bengali, Fast Food                                         1\n",
       "North Indian, Rajasthani, Asian                            1\n",
       "Chinese, Thai, Malaysian, Indonesian                       1\n",
       "Bakery, Desserts, North Indian, Bengali, South Indian      1\n",
       "Italian, World Cuisine                                     1\n",
       "Name: Cuisines, Length: 1826, dtype: int64"
      ]
     },
     "execution_count": 20,
     "metadata": {},
     "output_type": "execute_result"
    }
   ],
   "source": [
    "print('Distribution of Cuisines')\n",
    "\n",
    "no_of_restaurants = df['Cuisines'].value_counts()\n",
    "no_of_restaurants"
   ]
  },
  {
   "cell_type": "markdown",
   "id": "15b2e294",
   "metadata": {},
   "source": [
    "### Top 10 Cities with highest restuarants"
   ]
  },
  {
   "cell_type": "code",
   "execution_count": 21,
   "id": "a95c4d95",
   "metadata": {},
   "outputs": [
    {
     "name": "stdout",
     "output_type": "stream",
     "text": [
      "Cities\n"
     ]
    },
    {
     "data": {
      "image/png": "[encoded data removed]",
      "text/plain": [
       "<Figure size 432x288 with 1 Axes>"
      ]
     },
     "metadata": {
      "needs_background": "light"
     },
     "output_type": "display_data"
    }
   ],
   "source": [
    "# Finding the top 10 cities with no of restaurants\n",
    "print('Cities')\n",
    "\n",
    "top_10 = df['City'].value_counts().head(10)\n",
    "\n",
    "sns.countplot(x = 'City', data = df, order = top_10.index)\n",
    "plt.title('Top 10 Cities with highest no of restaurants')\n",
    "plt.xlabel('Cities')\n",
    "plt.ylabel('No of restuarants')\n",
    "plt.xticks(rotation=45)\n",
    "\n",
    "plt.show()"
   ]
  },
  {
   "cell_type": "markdown",
   "id": "63f17c94",
   "metadata": {},
   "source": [
    "### Top 10 Cuisines with highest restuarants"
   ]
  },
  {
   "cell_type": "code",
   "execution_count": 22,
   "id": "7c91f133",
   "metadata": {},
   "outputs": [
    {
     "name": "stdout",
     "output_type": "stream",
     "text": [
      "Cuisines\n"
     ]
    },
    {
     "data": {
      "image/png": "[encoded data removed]",
      "text/plain": [
       "<Figure size 432x288 with 1 Axes>"
      ]
     },
     "metadata": {
      "needs_background": "light"
     },
     "output_type": "display_data"
    }
   ],
   "source": [
    "print('Cuisines')\n",
    "\n",
    "top_10 = df['Cuisines'].value_counts().head(10)\n",
    "\n",
    "sns.countplot(y = 'Cuisines', data = df, order = top_10.index)\n",
    "plt.title('Distribution of City')\n",
    "plt.ylabel('Cuisines')\n",
    "plt.xlabel('No of restuarants')\n",
    "\n",
    "plt.show()"
   ]
  },
  {
   "cell_type": "markdown",
   "id": "b533126c",
   "metadata": {},
   "source": [
    "## Insights of TASK-2"
   ]
  },
  {
   "cell_type": "markdown",
   "id": "11e1ccaa",
   "metadata": {},
   "source": [
    "- Numerical Statistics: The mean, median, standard deviation, minimum, and maximum values for numerical columns provide insights into the spread and central tendency of the data.\n",
    "- The ratings of restaurants vary from a minimum of 0 to a maximum of 4.9, indicating a diverse range of ratings in the dataset.\n",
    "- The country code '1' hosts the highest number of restaurants in the dataset, highlighting its prominence in the culinary landscape.\n",
    "- The dataset is characterized by a variety of cuisines, with North Indian cuisines being notably prevalent among the restaurants.\n",
    "- New Delhi emerges as the city with the highest number of restaurants, suggesting a vibrant and diverse culinary scene in the capital."
   ]
  },
  {
   "cell_type": "markdown",
   "id": "35822891",
   "metadata": {},
   "source": [
    "# TASK-3 : Geospatial Analysis"
   ]
  },
  {
   "cell_type": "markdown",
   "id": "f7ad5e14",
   "metadata": {},
   "source": [
    "### locations of restaurants"
   ]
  },
  {
   "cell_type": "code",
   "execution_count": 23,
   "id": "b3487f13",
   "metadata": {},
   "outputs": [],
   "source": [
    "import geopandas as gpd"
   ]
  },
  {
   "cell_type": "code",
   "execution_count": 24,
   "id": "d674ebef",
   "metadata": {},
   "outputs": [
    {
     "data": {
      "image/png": "[encoded data removed]",
      "text/plain": [
       "<Figure size 720x576 with 1 Axes>"
      ]
     },
     "metadata": {
      "needs_background": "light"
     },
     "output_type": "display_data"
    }
   ],
   "source": [
    "geo_df = gpd.GeoDataFrame(df, geometry=gpd.points_from_xy(df.Longitude, df.Latitude))\n",
    "\n",
    "world = gpd.read_file(gpd.datasets.get_path('naturalearth_lowres'))\n",
    "\n",
    "geo_df.plot(ax = world.plot('continent',legend = True, figsize = (10,8)), markersize=10,color='red',marker = 10)\n",
    "\n",
    "plt.show()"
   ]
  },
  {
   "cell_type": "markdown",
   "id": "ce24c1f6",
   "metadata": {},
   "source": [
    "### Distribution of restaurants across Countries"
   ]
  },
  {
   "cell_type": "code",
   "execution_count": 32,
   "id": "9456eb4d",
   "metadata": {},
   "outputs": [
    {
     "name": "stdout",
     "output_type": "stream",
     "text": [
      "Cities\n"
     ]
    },
    {
     "data": {
      "image/png": "[encoded data removed]",
      "text/plain": [
       "<Figure size 864x360 with 1 Axes>"
      ]
     },
     "metadata": {
      "needs_background": "light"
     },
     "output_type": "display_data"
    }
   ],
   "source": [
    "# Analyze the distribution of restaurants across different cities or countries.\n",
    "print('Cities')\n",
    "\n",
    "plt.figure(figsize=(12,5))\n",
    "\n",
    "sns.countplot(x = 'Country Code', data = df)\n",
    "\n",
    "plt.title('Distribution of restaurants across Countries')\n",
    "plt.xlabel('Country Codes')\n",
    "plt.ylabel('No of restuarants')\n",
    "plt.xticks(rotation=45)\n",
    "\n",
    "plt.show()"
   ]
  },
  {
   "cell_type": "markdown",
   "id": "0a6ff48a",
   "metadata": {},
   "source": [
    "### Correlation between the restaurant's location and its rating"
   ]
  },
  {
   "cell_type": "code",
   "execution_count": 44,
   "id": "2462f7b7",
   "metadata": {},
   "outputs": [
    {
     "data": {
      "image/png": "[encoded data removed]",
      "text/plain": [
       "<Figure size 720x432 with 1 Axes>"
      ]
     },
     "metadata": {
      "needs_background": "light"
     },
     "output_type": "display_data"
    },
    {
     "name": "stdout",
     "output_type": "stream",
     "text": [
      "Correlation between latitute and longitude 0.04320728574930197\n"
     ]
    }
   ],
   "source": [
    "#Determine if there is any correlation between the restaurant's location and its rating.\n",
    "plt.figure(figsize=(10,6))\n",
    "sns.scatterplot(x='Longitude', y = 'Latitude', hue= 'Aggregate rating', data=df, palette='viridis', size='Aggregate rating', sizes=(20,200))\n",
    "\n",
    "plt.title('Correlationg between Restaurant location and Rating')\n",
    "\n",
    "plt.xlabel('Longitude')\n",
    "plt.ylabel('Latitude')\n",
    "\n",
    "plt.show()\n",
    "\n",
    "correlation_coeff = df[['Latitude','Longitude','Aggregate rating']].corr().loc['Latitude','Longitude']\n",
    "print('Correlation between latitute and longitude', correlation_coeff)"
   ]
  },
  {
   "cell_type": "markdown",
   "id": "0e07c2c7",
   "metadata": {},
   "source": [
    "## Insights of TASK-3"
   ]
  },
  {
   "cell_type": "markdown",
   "id": "e877ee2d",
   "metadata": {},
   "source": [
    "- There are more restuarants in Asia and North America.\n",
    "- The scatter plot explains the correlation between latitude, longitude and Aggregate ratings.\n",
    "- The correlation is 0.04 which is a positive coefficient that suggests a positive correlation between location and rating."
   ]
  },
  {
   "cell_type": "code",
   "execution_count": null,
   "id": "815fbdb3",
   "metadata": {},
   "outputs": [],
   "source": []
  }
 ],
 "metadata": {
  "kernelspec": {
   "display_name": "Python 3 (ipykernel)",
   "language": "python",
   "name": "python3"
  },
  "language_info": {
   "codemirror_mode": {
    "name": "ipython",
    "version": 3
   },
   "file_extension": ".py",
   "mimetype": "text/x-python",
   "name": "python",
   "nbconvert_exporter": "python",
   "pygments_lexer": "ipython3",
   "version": "3.9.7"
  }
 },
 "nbformat": 4,
 "nbformat_minor": 5
}
